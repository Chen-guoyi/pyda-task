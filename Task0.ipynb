{
 "cells": [
  {
   "cell_type": "markdown",
   "metadata": {},
   "source": [
    "# Task0"
   ]
  },
  {
   "cell_type": "markdown",
   "metadata": {},
   "source": [
    "## 学习使用Git上传文件至Github"
   ]
  },
  {
   "cell_type": "markdown",
   "metadata": {},
   "source": [
    "### Windows 安装 Git"
   ]
  },
  {
   "cell_type": "markdown",
   "metadata": {},
   "source": [
    "- 可以从Git官网直接下载安装程序，然后按默认选项安装即可。\n",
    "\n",
    "- 安装完成后，在开始菜单里找到“Git”->“Git Bash”，跳出一个类似命令行窗口的窗口，就说明Git安装成功！"
   ]
  },
  {
   "cell_type": "markdown",
   "metadata": {},
   "source": [
    "### 设置用户、用户邮箱"
   ]
  },
  {
   "cell_type": "markdown",
   "metadata": {},
   "source": [
    "- 开始菜单->“Git”->“Git Bash”，在 Git Bash 命令窗口分别执行以下命令  \n",
    "git config --global user.name \"Your Name\" （输入 github 用户名）   \n",
    "git config --global user.email \"email@example.com\"（输入 github 用户邮箱）\n"
   ]
  },
  {
   "cell_type": "markdown",
   "metadata": {},
   "source": [
    "### 创建仓库"
   ]
  },
  {
   "cell_type": "markdown",
   "metadata": {},
   "source": [
    "- 选择合适的硬盘分区，（不建议在 C 盘）  \n",
    "- 右键，选择 Git Bash Here，打开命令窗口\n",
    "- 输入以下命令：  \n",
    "mkdir <文件夹名称0>  \n",
    "cd <文件夹名称0>"
   ]
  },
  {
   "cell_type": "markdown",
   "metadata": {},
   "source": [
    "- 初始化仓库，输入以下命令  \n",
    "git init"
   ]
  },
  {
   "cell_type": "markdown",
   "metadata": {},
   "source": [
    "- 把文件添加到仓库，命令  \n",
    "git add <文件名>\n",
    "- 把文件提交到仓库，命令  \n",
    "git commit -m \"文件的描述语句\"（内容说明，变动说明等）  "
   ]
  },
  {
   "cell_type": "code",
   "execution_count": null,
   "metadata": {},
   "outputs": [],
   "source": []
  },
  {
   "cell_type": "markdown",
   "metadata": {},
   "source": [
    "## Jupyter notebook基础环境搭建"
   ]
  },
  {
   "cell_type": "markdown",
   "metadata": {},
   "source": [
    "使用 Anaconda，配置简单"
   ]
  },
  {
   "cell_type": "markdown",
   "metadata": {},
   "source": [
    "修改 Jupyter notebook 的文件目录：  \n",
    "打开 cmd 输入命令 jupyter notebook --generate-config <Enter>\n",
    "打开 该文件目录找到 jupyter_notebook_config.py\n",
    "这个就是生成的配置文件，打开文件后找到 \n",
    "    ## The directory to use for notebooks and kernels.  \n",
    "    ## c.NotebookApp.notebook_dir = ''  \n",
    "删除 c.NotebookApp...前面的’#‘ ，然后在 '' 填写自己的路径，保存"
   ]
  }
 ],
 "metadata": {
  "kernelspec": {
   "display_name": "Python 3",
   "language": "python",
   "name": "python3"
  },
  "language_info": {
   "codemirror_mode": {
    "name": "ipython",
    "version": 3
   },
   "file_extension": ".py",
   "mimetype": "text/x-python",
   "name": "python",
   "nbconvert_exporter": "python",
   "pygments_lexer": "ipython3",
   "version": "3.7.3"
  }
 },
 "nbformat": 4,
 "nbformat_minor": 2
}
